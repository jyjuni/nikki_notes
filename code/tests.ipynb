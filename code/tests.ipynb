{
 "cells": [
  {
   "cell_type": "markdown",
   "metadata": {},
   "source": [
    "# heap"
   ]
  },
  {
   "cell_type": "code",
   "execution_count": 1,
   "metadata": {},
   "outputs": [],
   "source": [
    "from heapq import *"
   ]
  },
  {
   "cell_type": "code",
   "execution_count": 24,
   "metadata": {},
   "outputs": [
    {
     "name": "stdout",
     "output_type": "stream",
     "text": [
      "<class 'list'>\n",
      "[5] min is 5\n",
      "[5, 7] min is 5\n",
      "[3, 7, 5] min is 3\n",
      "[2, 3, 5, 7] min is 2\n",
      "[2, 3, 5, 7, 3] min is 2\n",
      "<class 'list'>\n"
     ]
    }
   ],
   "source": [
    "minHeap = []\n",
    "l = []\n",
    "\n",
    "print(type(minHeap))\n",
    "\n",
    "for i in (5,7,3,2,3):\n",
    "    heappush(minHeap, i)\n",
    "    \n",
    "    l.append(i)\n",
    "    print(minHeap, f'min is {minHeap[0]}')\n",
    "\n",
    "print(type(minHeap))\n"
   ]
  },
  {
   "cell_type": "code",
   "execution_count": 25,
   "metadata": {},
   "outputs": [
    {
     "name": "stdout",
     "output_type": "stream",
     "text": [
      "[5, 7, 3, 2, 3]\n",
      "[2, 3, 3, 7, 5]\n"
     ]
    }
   ],
   "source": [
    "print(l)\n",
    "heapify(l)\n",
    "print(l)"
   ]
  },
  {
   "cell_type": "markdown",
   "metadata": {},
   "source": [
    "**note**\n",
    "- heap[0]始终最小\n",
    "- heap相当于是在list结构上原地修改，例：\n",
    "    - heappush和heappop之后list的数据类型不变，在list in-place修改数值，使minHeap[0]为最小值。\n",
    "    - heapify(): takes populated list, change in-place\n",
    "- 变为maxHeap: 存-value\n",
    "- 自定义排序key: \n",
    "    1) 存tuples: (priority, task)，用正负指定升降序\n",
    "    2) 自定义类，覆盖__lt__(self, other) \n",
    "\n"
   ]
  },
  {
   "cell_type": "markdown",
   "metadata": {},
   "source": [
    "**heapsort**"
   ]
  },
  {
   "cell_type": "code",
   "execution_count": 14,
   "metadata": {},
   "outputs": [
    {
     "data": {
      "text/plain": [
       "[0, 1, 2, 3, 4, 5, 6, 7, 8, 9]"
      ]
     },
     "execution_count": 14,
     "metadata": {},
     "output_type": "execute_result"
    }
   ],
   "source": [
    "def heapsort(iterable):\n",
    "    h = []\n",
    "    for value in iterable:\n",
    "        heappush(h, value)\n",
    "    return [heappop(h) for i in range(len(h))]\n",
    "\n",
    "heapsort([1, 3, 5, 7, 9, 2, 4, 6, 8, 0])\n"
   ]
  },
  {
   "cell_type": "code",
   "execution_count": null,
   "metadata": {},
   "outputs": [],
   "source": []
  }
 ],
 "metadata": {
  "kernelspec": {
   "display_name": "Python 3.8.9 64-bit",
   "language": "python",
   "name": "python3"
  },
  "language_info": {
   "codemirror_mode": {
    "name": "ipython",
    "version": 3
   },
   "file_extension": ".py",
   "mimetype": "text/x-python",
   "name": "python",
   "nbconvert_exporter": "python",
   "pygments_lexer": "ipython3",
   "version": "3.8.9"
  },
  "orig_nbformat": 4,
  "vscode": {
   "interpreter": {
    "hash": "31f2aee4e71d21fbe5cf8b01ff0e069b9275f58929596ceb00d14d90e3e16cd6"
   }
  }
 },
 "nbformat": 4,
 "nbformat_minor": 2
}
